{
 "cells": [
  {
   "cell_type": "code",
   "execution_count": 1,
   "metadata": {},
   "outputs": [],
   "source": [
    "#1) Detect when vehicle is being used  \n",
    "#2) Match driver's phone and vehicle\n",
    "#3) Track driving behavior\n",
    "#4) Track if texting is enabled\n",
    "#5) Run scoring model, on risky and distracted events\n",
    "#6) Make data available for Scoring API"
   ]
  },
  {
   "cell_type": "code",
   "execution_count": 2,
   "metadata": {},
   "outputs": [],
   "source": [
    "import sys\n",
    "import json\n",
    "import requests\n",
    "import pandas as pd\n",
    "from pandas.io.json import json_normalize\n",
    "from geopy import distance\n",
    "from dateutil.parser import parse\n",
    "from datetime import datetime\n",
    "import math\n",
    "import boto3\n",
    "#!{sys.executable} -m pip install geopy"
   ]
  },
  {
   "cell_type": "code",
   "execution_count": 22,
   "metadata": {},
   "outputs": [],
   "source": [
    "#Helper Functions\n",
    "def parse_time(s):\n",
    "    try:\n",
    "        ret = parse(s)\n",
    "    except ValueError:\n",
    "        ret = datetime.utcfromtimestamp(s)\n",
    "    return ret\n",
    "\n",
    "#print(parse_time(data['lastTimestamp'][0]))\n",
    "\n",
    "def distance(origin, destination):\n",
    "    lat1, lon1 = origin\n",
    "    lat2, lon2 = destination\n",
    "    radius = 6371 # km\n",
    "\n",
    "    dlat = math.radians(lat2-lat1)\n",
    "    dlon = math.radians(lon2-lon1)\n",
    "    a = math.sin(dlat/2) * math.sin(dlat/2) + math.cos(math.radians(lat1)) \\\n",
    "        * math.cos(math.radians(lat2)) * math.sin(dlon/2) * math.sin(dlon/2)\n",
    "    c = 2 * math.atan2(math.sqrt(a), math.sqrt(1-a))\n",
    "    d = radius * c\n",
    "    return d\n",
    "\n",
    "#distance([-88.3185833333333, 42.228175],[-88.3185833333333, 48.228175])"
   ]
  },
  {
   "cell_type": "code",
   "execution_count": 3,
   "metadata": {},
   "outputs": [
    {
     "name": "stdout",
     "output_type": "stream",
     "text": [
      "/Users/wandawang/Downloads\n"
     ]
    }
   ],
   "source": [
    "cd Downloads"
   ]
  },
  {
   "cell_type": "code",
   "execution_count": 4,
   "metadata": {},
   "outputs": [],
   "source": [
    "##Call the API --- #TelemetryByVinController #Header Parameters #x-id-token\n",
    "\n",
    "def api_call(fullpath, parameters):\n",
    "    session = requests.Session() #performance increase if make several requests to same host \n",
    "\n",
    "    response = session.get(url=fullpath, params=parameters)\n",
    "    #response = requests.get(\"https://jsonplaceholder.typicode.com/todos\")\n",
    "    todos = json.loads(response.text) #dict\n",
    "    #OR\n",
    "    data = response.json() #dict\n",
    "    #print(type(data)) \n",
    "    #print(json_normalize(data)) #dataframe \n",
    "    print(type(json_normalize(data)))\n",
    "    #print(data.keys())\n",
    "    if response.status_code != 200:\n",
    "        print(\"Cannot connect to API source.\")"
   ]
  },
  {
   "cell_type": "code",
   "execution_count": 18,
   "metadata": {},
   "outputs": [
    {
     "name": "stdout",
     "output_type": "stream",
     "text": [
      "<class 'pandas.core.frame.DataFrame'>\n"
     ]
    }
   ],
   "source": [
    "#Voyo example\n",
    "#https://prod001.voyomotive.com/api/all.php?serial=[SERIAL]&key=[API_KEY]&start=[START_TIME]&end=[END_TIME]\n",
    "fullpath = \"https://prod001.voyomotive.com/api/all.php\"\n",
    "parameters = {'serial': '6468','key': 'X8KFUACqQGix1DTbNRov','start': 1569801600,'end': 1569888000}\n",
    "api_call(fullpath, parameters)"
   ]
  },
  {
   "cell_type": "code",
   "execution_count": 6,
   "metadata": {},
   "outputs": [
    {
     "data": {
      "text/plain": [
       "{'vin': 'VINVINVINVINVIN01',\n",
       " 'correlationId': 'correlation-id',\n",
       " 'lastTimestamp': '2018-06-02T22:04:18Z',\n",
       " 'location': {'type': 'Point', 'coordinates': [-88.3185833333333, 42.228175]},\n",
       " 'vehicleName': 'CAMRY',\n",
       " 'telemetry': {'fuelLevel': {'value': 26.46},\n",
       "  'odometer': {'value': 5176, 'unit': 'mi'},\n",
       "  'sunRoof': {'value': 2},\n",
       "  'spareTirePressure': {'value': 127, 'unit': 'psi'},\n",
       "  'flTirePressure': {'value': 36, 'unit': 'psi'},\n",
       "  'driverWindow': {'value': 2},\n",
       "  'rrWindow': {'value': 2},\n",
       "  'speed': {'value': 0, 'unit': 'km/h'},\n",
       "  'frTirePressure': {'value': 37, 'unit': 'psi'},\n",
       "  'rlTirePressure': {'value': 37, 'unit': 'psi'},\n",
       "  'passengerWindow': {'value': 2},\n",
       "  'rrTirePressure': {'value': 37, 'unit': 'psi'},\n",
       "  'rlWindow': {'value': 2}}}"
      ]
     },
     "execution_count": 6,
     "metadata": {},
     "output_type": "execute_result"
    }
   ],
   "source": [
    "##Assuming the API returns a JSON, parse the JSON object into a Python dict using json.loads function\n",
    "    #Grab vin, lastTimestamp, location-coordinates, telemetry-speed-value\n",
    "    \n",
    "with open('telemetry_api_response.txt') as f: \n",
    "    json_data = json.load(f)\n",
    "json_data\n",
    "\n",
    "##Loop through the dict to extract information."
   ]
  },
  {
   "cell_type": "code",
   "execution_count": 19,
   "metadata": {},
   "outputs": [],
   "source": [
    "data = json_normalize(json_data)"
   ]
  },
  {
   "cell_type": "code",
   "execution_count": 15,
   "metadata": {},
   "outputs": [],
   "source": [
    "#data.columns"
   ]
  },
  {
   "cell_type": "code",
   "execution_count": 20,
   "metadata": {},
   "outputs": [
    {
     "data": {
      "text/html": [
       "<div>\n",
       "<style scoped>\n",
       "    .dataframe tbody tr th:only-of-type {\n",
       "        vertical-align: middle;\n",
       "    }\n",
       "\n",
       "    .dataframe tbody tr th {\n",
       "        vertical-align: top;\n",
       "    }\n",
       "\n",
       "    .dataframe thead th {\n",
       "        text-align: right;\n",
       "    }\n",
       "</style>\n",
       "<table border=\"1\" class=\"dataframe\">\n",
       "  <thead>\n",
       "    <tr style=\"text-align: right;\">\n",
       "      <th></th>\n",
       "      <th>vin</th>\n",
       "      <th>vehicleName</th>\n",
       "      <th>lastTimestamp</th>\n",
       "      <th>location.coordinates</th>\n",
       "      <th>telemetry.odometer.value</th>\n",
       "      <th>telemetry.speed.value</th>\n",
       "    </tr>\n",
       "  </thead>\n",
       "  <tbody>\n",
       "    <tr>\n",
       "      <th>0</th>\n",
       "      <td>VINVINVINVINVIN01</td>\n",
       "      <td>CAMRY</td>\n",
       "      <td>2018-06-02T22:04:18Z</td>\n",
       "      <td>[-88.3185833333333, 42.228175]</td>\n",
       "      <td>5176</td>\n",
       "      <td>0</td>\n",
       "    </tr>\n",
       "  </tbody>\n",
       "</table>\n",
       "</div>"
      ],
      "text/plain": [
       "                 vin vehicleName         lastTimestamp  \\\n",
       "0  VINVINVINVINVIN01       CAMRY  2018-06-02T22:04:18Z   \n",
       "\n",
       "             location.coordinates  telemetry.odometer.value  \\\n",
       "0  [-88.3185833333333, 42.228175]                      5176   \n",
       "\n",
       "   telemetry.speed.value  \n",
       "0                      0  "
      ]
     },
     "execution_count": 20,
     "metadata": {},
     "output_type": "execute_result"
    }
   ],
   "source": [
    "df = data[['vin','vehicleName','lastTimestamp','location.coordinates','telemetry.odometer.value','telemetry.speed.value']]\n",
    "df"
   ]
  },
  {
   "cell_type": "code",
   "execution_count": 21,
   "metadata": {},
   "outputs": [
    {
     "data": {
      "text/html": [
       "<div>\n",
       "<style scoped>\n",
       "    .dataframe tbody tr th:only-of-type {\n",
       "        vertical-align: middle;\n",
       "    }\n",
       "\n",
       "    .dataframe tbody tr th {\n",
       "        vertical-align: top;\n",
       "    }\n",
       "\n",
       "    .dataframe thead th {\n",
       "        text-align: right;\n",
       "    }\n",
       "</style>\n",
       "<table border=\"1\" class=\"dataframe\">\n",
       "  <thead>\n",
       "    <tr style=\"text-align: right;\">\n",
       "      <th></th>\n",
       "      <th>vin</th>\n",
       "      <th>vehicleName</th>\n",
       "      <th>lastTimestamp</th>\n",
       "      <th>location.coordinates</th>\n",
       "      <th>telemetry.odometer.value</th>\n",
       "      <th>telemetry.speed.value</th>\n",
       "    </tr>\n",
       "  </thead>\n",
       "  <tbody>\n",
       "    <tr>\n",
       "      <th>0</th>\n",
       "      <td>VINVINVINVINVIN01</td>\n",
       "      <td>CAMRY</td>\n",
       "      <td>2018-06-02T22:04:18Z</td>\n",
       "      <td>[-88.3185833333333, 42.228175]</td>\n",
       "      <td>5176</td>\n",
       "      <td>0</td>\n",
       "    </tr>\n",
       "    <tr>\n",
       "      <th>1</th>\n",
       "      <td>VINVINVINVINVIN01</td>\n",
       "      <td>CAMRY</td>\n",
       "      <td>2018-06-02T22:04:18Z</td>\n",
       "      <td>[-88.3185833333333, 42.228175]</td>\n",
       "      <td>5176</td>\n",
       "      <td>0</td>\n",
       "    </tr>\n",
       "    <tr>\n",
       "      <th>2</th>\n",
       "      <td>VINVINVINVINVIN01</td>\n",
       "      <td>CAMRY</td>\n",
       "      <td>2018-06-02T22:04:18Z</td>\n",
       "      <td>[-88.3185833333333, 42.228175]</td>\n",
       "      <td>5176</td>\n",
       "      <td>0</td>\n",
       "    </tr>\n",
       "  </tbody>\n",
       "</table>\n",
       "</div>"
      ],
      "text/plain": [
       "                 vin vehicleName         lastTimestamp  \\\n",
       "0  VINVINVINVINVIN01       CAMRY  2018-06-02T22:04:18Z   \n",
       "1  VINVINVINVINVIN01       CAMRY  2018-06-02T22:04:18Z   \n",
       "2  VINVINVINVINVIN01       CAMRY  2018-06-02T22:04:18Z   \n",
       "\n",
       "             location.coordinates  telemetry.odometer.value  \\\n",
       "0  [-88.3185833333333, 42.228175]                      5176   \n",
       "1  [-88.3185833333333, 42.228175]                      5176   \n",
       "2  [-88.3185833333333, 42.228175]                      5176   \n",
       "\n",
       "   telemetry.speed.value  \n",
       "0                      0  \n",
       "1                      0  \n",
       "2                      0  "
      ]
     },
     "execution_count": 21,
     "metadata": {},
     "output_type": "execute_result"
    }
   ],
   "source": [
    "df_repeated = pd.concat([df]*3, ignore_index=True)\n",
    "df_repeated"
   ]
  },
  {
   "cell_type": "code",
   "execution_count": 24,
   "metadata": {},
   "outputs": [
    {
     "data": {
      "text/html": [
       "<div>\n",
       "<style scoped>\n",
       "    .dataframe tbody tr th:only-of-type {\n",
       "        vertical-align: middle;\n",
       "    }\n",
       "\n",
       "    .dataframe tbody tr th {\n",
       "        vertical-align: top;\n",
       "    }\n",
       "\n",
       "    .dataframe thead th {\n",
       "        text-align: right;\n",
       "    }\n",
       "</style>\n",
       "<table border=\"1\" class=\"dataframe\">\n",
       "  <thead>\n",
       "    <tr style=\"text-align: right;\">\n",
       "      <th></th>\n",
       "      <th>vin</th>\n",
       "      <th>vehicleName</th>\n",
       "      <th>lastTimestamp</th>\n",
       "      <th>location.coordinates</th>\n",
       "      <th>telemetry.odometer.value</th>\n",
       "      <th>telemetry.speed.value</th>\n",
       "    </tr>\n",
       "  </thead>\n",
       "  <tbody>\n",
       "    <tr>\n",
       "      <th>0</th>\n",
       "      <td>VINVINVINVINVIN01</td>\n",
       "      <td>CAMRY</td>\n",
       "      <td>2018-06-02 22:04:18+00:00</td>\n",
       "      <td>[-88.3185833333333, 42.228175]</td>\n",
       "      <td>5176</td>\n",
       "      <td>0</td>\n",
       "    </tr>\n",
       "    <tr>\n",
       "      <th>1</th>\n",
       "      <td>VINVINVINVINVIN01</td>\n",
       "      <td>CAMRY</td>\n",
       "      <td>2018-06-02 22:04:18+00:00</td>\n",
       "      <td>[-88.3185833333333, 42.228175]</td>\n",
       "      <td>5176</td>\n",
       "      <td>0</td>\n",
       "    </tr>\n",
       "    <tr>\n",
       "      <th>2</th>\n",
       "      <td>VINVINVINVINVIN01</td>\n",
       "      <td>CAMRY</td>\n",
       "      <td>2018-06-02 22:04:18+00:00</td>\n",
       "      <td>[-88.3185833333333, 42.228175]</td>\n",
       "      <td>5176</td>\n",
       "      <td>0</td>\n",
       "    </tr>\n",
       "  </tbody>\n",
       "</table>\n",
       "</div>"
      ],
      "text/plain": [
       "                 vin vehicleName             lastTimestamp  \\\n",
       "0  VINVINVINVINVIN01       CAMRY 2018-06-02 22:04:18+00:00   \n",
       "1  VINVINVINVINVIN01       CAMRY 2018-06-02 22:04:18+00:00   \n",
       "2  VINVINVINVINVIN01       CAMRY 2018-06-02 22:04:18+00:00   \n",
       "\n",
       "             location.coordinates  telemetry.odometer.value  \\\n",
       "0  [-88.3185833333333, 42.228175]                      5176   \n",
       "1  [-88.3185833333333, 42.228175]                      5176   \n",
       "2  [-88.3185833333333, 42.228175]                      5176   \n",
       "\n",
       "   telemetry.speed.value  \n",
       "0                      0  \n",
       "1                      0  \n",
       "2                      0  "
      ]
     },
     "execution_count": 24,
     "metadata": {},
     "output_type": "execute_result"
    }
   ],
   "source": [
    "#clean timestamps\n",
    "\n",
    "data = df_repeated[['vin','vehicleName','lastTimestamp','location.coordinates','telemetry.odometer.value','telemetry.speed.value']]\n",
    "data['lastTimestamp'] = data['lastTimestamp'].apply(lambda x: parse_time(x))\n",
    "data"
   ]
  },
  {
   "cell_type": "code",
   "execution_count": null,
   "metadata": {},
   "outputs": [],
   "source": [
    "# upload table into s3 bucket and folder location\n",
    "\n",
    "\n",
    "#aws s3 parameters\n",
    "s3 = boto3.resource('s3')\n",
    "client = boto3.client('s3')\n",
    "bucket = s3.Bucket('tri-avt') #bucket name\n",
    "session = boto3.Session()\n",
    "s3_client = session.client('s3')\n",
    "\n",
    "\n",
    "#read from s3\n",
    "\n",
    "#Loading dataframes per file type\n",
    "def load_files(folder, filename): #folder = 'sample', filename = 'synced_can.csv'\n",
    "    file_list = []\n",
    "    for key in bucket.objects.filter(Prefix=folder):\n",
    "        k = key.key\n",
    "        if k.endswith(filename):\n",
    "            file_list.append(k)\n",
    "            \n",
    "    list_data = []\n",
    "    for key in file_list: #[0:100]: #looking at first 10 files only\n",
    "        file_body = s3_client.get_object(Bucket='tri-avt', Key=key).get('Body')\n",
    "        n = (re.findall(\"\\d+\", key))\n",
    "        filename = (n[0]+ '_'+ n[1] + '_' + n[2])\n",
    "        df = pd.read_csv(io.BytesIO(file_body.read()))\n",
    "        df['fname'] = filename\n",
    "        list_data.append(df)\n",
    "\n",
    "    frame_data = pd.concat(list_data, axis = 0, ignore_index = True)\n",
    "    return(frame_data)\n",
    "\n",
    "#speed threshold\n",
    "#gps_coord - geofencing, match with phone\n",
    "#odo - distance traveled\n",
    "\n",
    "\n",
    "##1) Detect when vehicle is being used  \n",
    "#When Speed > 0 mph\n",
    "\n",
    "#Tag Driver -- Assign Driver_ID\n",
    "#Tag Trips -- identify time gaps of > 10 mins , Assign Trip_ID\n",
    "#Tag Phone -- identify Phone_ID, match gps_coord with phone gps_coord. \n"
   ]
  },
  {
   "cell_type": "code",
   "execution_count": 17,
   "metadata": {},
   "outputs": [
    {
     "name": "stdout",
     "output_type": "stream",
     "text": [
      "Distance: 0.13195669782039013\n",
      "(33.85717, -118.29022) point is outside the 0.05 km radius from (33.8575, -118.28885) coordinate\n"
     ]
    }
   ],
   "source": [
    "#center_point = [{'lat': -7.7940023, 'lng': 110.3656535}]\n",
    "#test_point = [{'lat': -7.79457, 'lng': 110.36563}]\n",
    "\n",
    "center_point = [{'lat': 33.85750, 'lng': -118.28885}] #k1 speed\n",
    "test_point = [{'lat': 33.85717, 'lng': -118.29022}] #green olive\n",
    "\n",
    "radius = .05 # in kilometer\n",
    "\n",
    "center_point_tuple = tuple(center_point[0].values()) # (-7.7940023, 110.3656535)\n",
    "test_point_tuple = tuple(test_point[0].values()) # (-7.79457, 110.36563)\n",
    "\n",
    "dis = distance.distance(center_point_tuple, test_point_tuple).km\n",
    "print(\"Distance: {}\".format(dis)) # Distance: 0.0628380925748918\n",
    "\n",
    "if dis <= radius:\n",
    "    print(\"{} point is inside the {} km radius from {} coordinate\".format(test_point_tuple, radius, center_point_tuple))\n",
    "else:\n",
    "    print(\"{} point is outside the {} km radius from {} coordinate\".format(test_point_tuple, radius, center_point_tuple))"
   ]
  },
  {
   "cell_type": "code",
   "execution_count": 16,
   "metadata": {},
   "outputs": [
    {
     "name": "stdout",
     "output_type": "stream",
     "text": [
      "Distance (km) :  0.13171921744122636\n",
      "Outside the area\n"
     ]
    }
   ],
   "source": [
    "from math import radians, cos, sin, asin, sqrt\n",
    "\n",
    "def haversine(lon1, lat1, lon2, lat2):\n",
    "    \"\"\"\n",
    "    Calculate the great circle distance between two points \n",
    "    on the earth (specified in decimal degrees)\n",
    "    \"\"\"\n",
    "    # convert decimal degrees to radians \n",
    "    lon1, lat1, lon2, lat2 = map(radians, [lon1, lat1, lon2, lat2])\n",
    "\n",
    "    # haversine formula \n",
    "    dlon = lon2 - lon1 \n",
    "    dlat = lat2 - lat1 \n",
    "    a = sin(dlat/2)**2 + cos(lat1) * cos(lat2) * sin(dlon/2)**2\n",
    "    c = 2 * asin(sqrt(a)) \n",
    "    r = 6371 # Radius of earth in kilometers. Use 3956 for miles\n",
    "    return c * r\n",
    "\n",
    "center_point = [{'lat': 33.85750, 'lng': -118.28885}] #k1 speed\n",
    "test_point = [{'lat': 33.85717, 'lng': -118.29022}] #green olive\n",
    "\n",
    "lat1 = center_point[0]['lat']\n",
    "lon1 = center_point[0]['lng']\n",
    "lat2 = test_point[0]['lat']\n",
    "lon2 = test_point[0]['lng']\n",
    "\n",
    "radius = 0.01 # in kilometer #0.01 km = 10 meters\n",
    "\n",
    "a = haversine(lon1, lat1, lon2, lat2)\n",
    "\n",
    "print('Distance (km) : ', a)\n",
    "if a <= radius:\n",
    "    print('Inside the area')\n",
    "else:\n",
    "    print('Outside the area')"
   ]
  },
  {
   "cell_type": "code",
   "execution_count": null,
   "metadata": {},
   "outputs": [],
   "source": [
    "#Distracted Driving\n",
    "#When Speed > 30 mph\n",
    "#Geofencing logic\n",
    "#Locked Miles "
   ]
  },
  {
   "cell_type": "code",
   "execution_count": null,
   "metadata": {},
   "outputs": [],
   "source": [
    "#ToDos\n",
    "\n",
    "#Obtain data stream of phone GPS coordinates \n",
    "#"
   ]
  },
  {
   "cell_type": "code",
   "execution_count": null,
   "metadata": {},
   "outputs": [],
   "source": [
    "#2) Match driver's phone and vehicle\n",
    "\n",
    "#Requirements -- need coordinates of phone provided.\n",
    "# or vehicle coordinates provided to phone or notebook.\n",
    "# function to match, every 5 seconds? \n",
    "\n",
    "#Check if Phone GPS Coordiantes is within 10m radius of Veicle gps_coord \n",
    "data['gps_coord'][0][0]"
   ]
  },
  {
   "cell_type": "code",
   "execution_count": null,
   "metadata": {},
   "outputs": [],
   "source": [
    "#3) Track driving behavior\n",
    "#4) Track if texting is enabled\n",
    "#5) Run scoring model, on risky and distracted events"
   ]
  },
  {
   "cell_type": "code",
   "execution_count": 13,
   "metadata": {},
   "outputs": [],
   "source": [
    "#df = pd.DataFrame(columns=['lon', 'lat', 'time', 'speed'])"
   ]
  },
  {
   "cell_type": "code",
   "execution_count": 14,
   "metadata": {},
   "outputs": [],
   "source": [
    "#AutoML -- what am I trying to predict?"
   ]
  }
 ],
 "metadata": {
  "kernelspec": {
   "display_name": "Python 3",
   "language": "python",
   "name": "python3"
  },
  "language_info": {
   "codemirror_mode": {
    "name": "ipython",
    "version": 3
   },
   "file_extension": ".py",
   "mimetype": "text/x-python",
   "name": "python",
   "nbconvert_exporter": "python",
   "pygments_lexer": "ipython3",
   "version": "3.6.5"
  }
 },
 "nbformat": 4,
 "nbformat_minor": 2
}
