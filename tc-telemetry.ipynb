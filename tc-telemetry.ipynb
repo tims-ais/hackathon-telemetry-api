{
 "cells": [
  {
   "cell_type": "code",
   "execution_count": 1,
   "metadata": {},
   "outputs": [],
   "source": [
    "#1) Detect when vehicle is being used  \n",
    "#2) Match driver's phone and vehicle\n",
    "#3) Track driving behavior\n",
    "#4) Track if texting is enabled\n",
    "#5) Run scoring model, on risky and distracted events\n",
    "#6) Make data available for Scoring API"
   ]
  },
  {
   "cell_type": "code",
   "execution_count": null,
   "metadata": {},
   "outputs": [],
   "source": [
    "def get_dist_from_trip(trip, max_time_gap=10**10):\n",
    "    \"\"\"\n",
    "    Returns distance traveled during trip (in km)\n",
    "    \n",
    "    :param trip: trip dictionary\n",
    "    :return: (odo_distance, haversine_distance)"
   ]
  },
  {
   "cell_type": "code",
   "execution_count": 19,
   "metadata": {},
   "outputs": [],
   "source": [
    "import json\n",
    "import pandas as pd\n",
    "from dateutil.parser import parse\n",
    "from datetime import datetime\n",
    "import math\n",
    "\n",
    "#Helper Functions\n",
    "def parse_time(s):\n",
    "    try:\n",
    "        ret = parse(s)\n",
    "    except ValueError:\n",
    "        ret = datetime.utcfromtimestamp(s)\n",
    "    return ret\n",
    "\n",
    "#print(parse_time(data['lastTimestamp'][0]))\n",
    "\n",
    "def distance(origin, destination):\n",
    "    lat1, lon1 = origin\n",
    "    lat2, lon2 = destination\n",
    "    radius = 6371 # km\n",
    "\n",
    "    dlat = math.radians(lat2-lat1)\n",
    "    dlon = math.radians(lon2-lon1)\n",
    "    a = math.sin(dlat/2) * math.sin(dlat/2) + math.cos(math.radians(lat1)) \\\n",
    "        * math.cos(math.radians(lat2)) * math.sin(dlon/2) * math.sin(dlon/2)\n",
    "    c = 2 * math.atan2(math.sqrt(a), math.sqrt(1-a))\n",
    "    d = radius * c\n",
    "    return d\n",
    "\n",
    "#distance([-88.3185833333333, 42.228175],[-88.3185833333333, 48.228175])"
   ]
  },
  {
   "cell_type": "code",
   "execution_count": 23,
   "metadata": {},
   "outputs": [
    {
     "data": {
      "text/plain": [
       "19.567183279711777"
      ]
     },
     "execution_count": 23,
     "metadata": {},
     "output_type": "execute_result"
    }
   ],
   "source": [
    "distance([-88.3185833333333, 42.228175],[-88.3185833333333, 48.228175])"
   ]
  },
  {
   "cell_type": "code",
   "execution_count": 24,
   "metadata": {},
   "outputs": [
    {
     "data": {
      "text/plain": [
       "667.169559867352"
      ]
     },
     "execution_count": 24,
     "metadata": {},
     "output_type": "execute_result"
    }
   ],
   "source": [
    "haversine(-88.3185833333333, 42.228175, -88.3185833333333, 48.228175)"
   ]
  },
  {
   "cell_type": "code",
   "execution_count": 37,
   "metadata": {},
   "outputs": [
    {
     "name": "stdout",
     "output_type": "stream",
     "text": [
      "Distance (km) :  0.13171921744122636\n",
      "Outside the area\n"
     ]
    }
   ],
   "source": [
    "from math import radians, cos, sin, asin, sqrt\n",
    "\n",
    "def haversine(lon1, lat1, lon2, lat2):\n",
    "    \"\"\"\n",
    "    Calculate the great circle distance between two points \n",
    "    on the earth (specified in decimal degrees)\n",
    "    \"\"\"\n",
    "    # convert decimal degrees to radians \n",
    "    lon1, lat1, lon2, lat2 = map(radians, [lon1, lat1, lon2, lat2])\n",
    "\n",
    "    # haversine formula \n",
    "    dlon = lon2 - lon1 \n",
    "    dlat = lat2 - lat1 \n",
    "    a = sin(dlat/2)**2 + cos(lat1) * cos(lat2) * sin(dlon/2)**2\n",
    "    c = 2 * asin(sqrt(a)) \n",
    "    r = 6371 # Radius of earth in kilometers. Use 3956 for miles\n",
    "    return c * r\n",
    "\n",
    "center_point = [{'lat': 33.85750, 'lng': -118.28885}] #k1 speed\n",
    "test_point = [{'lat': 33.85717, 'lng': -118.29022}] #green olive\n",
    "\n",
    "lat1 = center_point[0]['lat']\n",
    "lon1 = center_point[0]['lng']\n",
    "lat2 = test_point[0]['lat']\n",
    "lon2 = test_point[0]['lng']\n",
    "\n",
    "radius = 0.01 # in kilometer #0.01 km = 10 meters\n",
    "\n",
    "a = haversine(lon1, lat1, lon2, lat2)\n",
    "\n",
    "print('Distance (km) : ', a)\n",
    "if a <= radius:\n",
    "    print('Inside the area')\n",
    "else:\n",
    "    print('Outside the area')"
   ]
  },
  {
   "cell_type": "code",
   "execution_count": 28,
   "metadata": {},
   "outputs": [
    {
     "name": "stdout",
     "output_type": "stream",
     "text": [
      "Requirement already satisfied: geopy in /Users/wandawang/anaconda3/lib/python3.6/site-packages (1.18.1)\n",
      "Requirement already satisfied: geographiclib<2,>=1.49 in /Users/wandawang/anaconda3/lib/python3.6/site-packages (from geopy) (1.49)\n",
      "\u001b[33mWARNING: You are using pip version 19.1.1, however version 19.3.1 is available.\n",
      "You should consider upgrading via the 'pip install --upgrade pip' command.\u001b[0m\n"
     ]
    }
   ],
   "source": [
    "!pip install geopy"
   ]
  },
  {
   "cell_type": "code",
   "execution_count": 30,
   "metadata": {},
   "outputs": [
    {
     "ename": "ModuleNotFoundError",
     "evalue": "No module named 'geopy'",
     "output_type": "error",
     "traceback": [
      "\u001b[0;31m---------------------------------------------------------------------------\u001b[0m",
      "\u001b[0;31mModuleNotFoundError\u001b[0m                       Traceback (most recent call last)",
      "\u001b[0;32m<ipython-input-30-e898ac0b98f4>\u001b[0m in \u001b[0;36m<module>\u001b[0;34m()\u001b[0m\n\u001b[0;32m----> 1\u001b[0;31m \u001b[0;32mfrom\u001b[0m \u001b[0mgeopy\u001b[0m \u001b[0;32mimport\u001b[0m \u001b[0mdistance\u001b[0m\u001b[0;34m\u001b[0m\u001b[0m\n\u001b[0m\u001b[1;32m      2\u001b[0m \u001b[0;34m\u001b[0m\u001b[0m\n\u001b[1;32m      3\u001b[0m \u001b[0mcenter_point\u001b[0m \u001b[0;34m=\u001b[0m \u001b[0;34m[\u001b[0m\u001b[0;34m{\u001b[0m\u001b[0;34m'lat'\u001b[0m\u001b[0;34m:\u001b[0m \u001b[0;34m-\u001b[0m\u001b[0;36m7.7940023\u001b[0m\u001b[0;34m,\u001b[0m \u001b[0;34m'lng'\u001b[0m\u001b[0;34m:\u001b[0m \u001b[0;36m110.3656535\u001b[0m\u001b[0;34m}\u001b[0m\u001b[0;34m]\u001b[0m\u001b[0;34m\u001b[0m\u001b[0m\n\u001b[1;32m      4\u001b[0m \u001b[0mtest_point\u001b[0m \u001b[0;34m=\u001b[0m \u001b[0;34m[\u001b[0m\u001b[0;34m{\u001b[0m\u001b[0;34m'lat'\u001b[0m\u001b[0;34m:\u001b[0m \u001b[0;34m-\u001b[0m\u001b[0;36m7.79457\u001b[0m\u001b[0;34m,\u001b[0m \u001b[0;34m'lng'\u001b[0m\u001b[0;34m:\u001b[0m \u001b[0;36m110.36563\u001b[0m\u001b[0;34m}\u001b[0m\u001b[0;34m]\u001b[0m\u001b[0;34m\u001b[0m\u001b[0m\n\u001b[1;32m      5\u001b[0m \u001b[0mradius\u001b[0m \u001b[0;34m=\u001b[0m \u001b[0;36m5\u001b[0m \u001b[0;31m# in kilometer\u001b[0m\u001b[0;34m\u001b[0m\u001b[0m\n",
      "\u001b[0;31mModuleNotFoundError\u001b[0m: No module named 'geopy'"
     ]
    }
   ],
   "source": [
    "from geopy import distance\n",
    "\n",
    "center_point = [{'lat': -7.7940023, 'lng': 110.3656535}]\n",
    "test_point = [{'lat': -7.79457, 'lng': 110.36563}]\n",
    "radius = 5 # in kilometer\n",
    "\n",
    "center_point_tuple = tuple(center_point[0].values()) # (-7.7940023, 110.3656535)\n",
    "test_point_tuple = tuple(test_point[0].values()) # (-7.79457, 110.36563)\n",
    "\n",
    "dis = distance.distance(center_point_tuple, test_point_tuple).km\n",
    "print(\"Distance: {}\".format(dis)) # Distance: 0.0628380925748918\n",
    "\n",
    "if dis <= radius:\n",
    "    print(\"{} point is inside the {} km radius from {} coordinate\".format(test_point_tuple, radius, center_point_tuple))\n",
    "else:\n",
    "    print(\"{} point is outside the {} km radius from {} coordinate\".format(test_point_tuple, radius, center_point_tuple))"
   ]
  },
  {
   "cell_type": "code",
   "execution_count": 3,
   "metadata": {},
   "outputs": [
    {
     "data": {
      "text/plain": [
       "{'vin': 'VINVINVINVINVIN01',\n",
       " 'correlationId': 'correlation-id',\n",
       " 'lastTimestamp': '2018-06-02T22:04:18Z',\n",
       " 'location': {'type': 'Point', 'coordinates': [-88.3185833333333, 42.228175]},\n",
       " 'vehicleName': 'CAMRY',\n",
       " 'telemetry': {'fuelLevel': {'value': 26.46},\n",
       "  'odometer': {'value': 5176, 'unit': 'mi'},\n",
       "  'sunRoof': {'value': 2},\n",
       "  'spareTirePressure': {'value': 127, 'unit': 'psi'},\n",
       "  'flTirePressure': {'value': 36, 'unit': 'psi'},\n",
       "  'driverWindow': {'value': 2},\n",
       "  'rrWindow': {'value': 2},\n",
       "  'speed': {'value': 0, 'unit': 'km/h'},\n",
       "  'frTirePressure': {'value': 37, 'unit': 'psi'},\n",
       "  'rlTirePressure': {'value': 37, 'unit': 'psi'},\n",
       "  'passengerWindow': {'value': 2},\n",
       "  'rrTirePressure': {'value': 37, 'unit': 'psi'},\n",
       "  'rlWindow': {'value': 2}}}"
      ]
     },
     "execution_count": 3,
     "metadata": {},
     "output_type": "execute_result"
    }
   ],
   "source": [
    "#TelemetryByVinController #Header Parameters #x-id-token\n",
    "\n",
    "#Grab vin, lastTimestamp, location-coordinates, telemetry-speed-value\n",
    "with open('telemetry_api_response.txt') as f: \n",
    "    json_data = json.load(f)\n",
    "json_data"
   ]
  },
  {
   "cell_type": "code",
   "execution_count": 25,
   "metadata": {},
   "outputs": [
    {
     "data": {
      "text/plain": [
       "0.6214"
      ]
     },
     "execution_count": 25,
     "metadata": {},
     "output_type": "execute_result"
    }
   ],
   "source": [
    "#convert km/h to mph for speed\n",
    "\n",
    "mph = 0.6214 * kmh"
   ]
  },
  {
   "cell_type": "code",
   "execution_count": null,
   "metadata": {},
   "outputs": [],
   "source": [
    "#steering angle not present for cornering."
   ]
  },
  {
   "cell_type": "code",
   "execution_count": null,
   "metadata": {},
   "outputs": [],
   "source": [
    "#simulate api call "
   ]
  },
  {
   "cell_type": "code",
   "execution_count": 4,
   "metadata": {},
   "outputs": [],
   "source": [
    "d = json_data\n",
    "df = pd.DataFrame.from_dict(d, orient='index').astype(str).sort_index()\n",
    "\n",
    "df.T #columnn for each timestamp?\n",
    "data = df.T"
   ]
  },
  {
   "cell_type": "code",
   "execution_count": 5,
   "metadata": {},
   "outputs": [
    {
     "data": {
      "text/html": [
       "<div>\n",
       "<style scoped>\n",
       "    .dataframe tbody tr th:only-of-type {\n",
       "        vertical-align: middle;\n",
       "    }\n",
       "\n",
       "    .dataframe tbody tr th {\n",
       "        vertical-align: top;\n",
       "    }\n",
       "\n",
       "    .dataframe thead th {\n",
       "        text-align: right;\n",
       "    }\n",
       "</style>\n",
       "<table border=\"1\" class=\"dataframe\">\n",
       "  <thead>\n",
       "    <tr style=\"text-align: right;\">\n",
       "      <th></th>\n",
       "      <th>correlationId</th>\n",
       "      <th>lastTimestamp</th>\n",
       "      <th>location</th>\n",
       "      <th>telemetry</th>\n",
       "      <th>vehicleName</th>\n",
       "      <th>vin</th>\n",
       "    </tr>\n",
       "  </thead>\n",
       "  <tbody>\n",
       "    <tr>\n",
       "      <th>0</th>\n",
       "      <td>correlation-id</td>\n",
       "      <td>2018-06-02T22:04:18Z</td>\n",
       "      <td>{'type': 'Point', 'coordinates': [-88.31858333...</td>\n",
       "      <td>{'fuelLevel': {'value': 26.46}, 'odometer': {'...</td>\n",
       "      <td>CAMRY</td>\n",
       "      <td>VINVINVINVINVIN01</td>\n",
       "    </tr>\n",
       "    <tr>\n",
       "      <th>1</th>\n",
       "      <td>correlation-id</td>\n",
       "      <td>2018-06-02T22:04:18Z</td>\n",
       "      <td>{'type': 'Point', 'coordinates': [-88.31858333...</td>\n",
       "      <td>{'fuelLevel': {'value': 26.46}, 'odometer': {'...</td>\n",
       "      <td>CAMRY</td>\n",
       "      <td>VINVINVINVINVIN01</td>\n",
       "    </tr>\n",
       "    <tr>\n",
       "      <th>2</th>\n",
       "      <td>correlation-id</td>\n",
       "      <td>2018-06-02T22:04:18Z</td>\n",
       "      <td>{'type': 'Point', 'coordinates': [-88.31858333...</td>\n",
       "      <td>{'fuelLevel': {'value': 26.46}, 'odometer': {'...</td>\n",
       "      <td>CAMRY</td>\n",
       "      <td>VINVINVINVINVIN01</td>\n",
       "    </tr>\n",
       "  </tbody>\n",
       "</table>\n",
       "</div>"
      ],
      "text/plain": [
       "    correlationId         lastTimestamp  \\\n",
       "0  correlation-id  2018-06-02T22:04:18Z   \n",
       "1  correlation-id  2018-06-02T22:04:18Z   \n",
       "2  correlation-id  2018-06-02T22:04:18Z   \n",
       "\n",
       "                                            location  \\\n",
       "0  {'type': 'Point', 'coordinates': [-88.31858333...   \n",
       "1  {'type': 'Point', 'coordinates': [-88.31858333...   \n",
       "2  {'type': 'Point', 'coordinates': [-88.31858333...   \n",
       "\n",
       "                                           telemetry vehicleName  \\\n",
       "0  {'fuelLevel': {'value': 26.46}, 'odometer': {'...       CAMRY   \n",
       "1  {'fuelLevel': {'value': 26.46}, 'odometer': {'...       CAMRY   \n",
       "2  {'fuelLevel': {'value': 26.46}, 'odometer': {'...       CAMRY   \n",
       "\n",
       "                 vin  \n",
       "0  VINVINVINVINVIN01  \n",
       "1  VINVINVINVINVIN01  \n",
       "2  VINVINVINVINVIN01  "
      ]
     },
     "execution_count": 5,
     "metadata": {},
     "output_type": "execute_result"
    }
   ],
   "source": [
    "df_repeated = pd.concat([data]*3, ignore_index=True)\n",
    "df_repeated"
   ]
  },
  {
   "cell_type": "code",
   "execution_count": 6,
   "metadata": {},
   "outputs": [],
   "source": [
    "#len(df_repeated.telemetry.values) #convert to array, #length is number of rows. "
   ]
  },
  {
   "cell_type": "code",
   "execution_count": 7,
   "metadata": {},
   "outputs": [],
   "source": [
    "odo = []\n",
    "sp = []\n",
    "\n",
    "for i in df_repeated.telemetry.values:\n",
    "    json_acceptable_string = i.replace(\"'\", \"\\\"\")\n",
    "    d = json.loads(json_acceptable_string)\n",
    "    odo.append(d['odometer'].get(\"value\"))\n",
    "    sp.append(d['speed'].get(\"value\"))\n",
    "    \n",
    "df_repeated['odometer'] = odo\n",
    "df_repeated['speed'] = sp\n",
    "#df_repeated"
   ]
  },
  {
   "cell_type": "code",
   "execution_count": 8,
   "metadata": {},
   "outputs": [],
   "source": [
    "gps_coord = []\n",
    "\n",
    "for i in df_repeated.location.values:\n",
    "    json_acceptable_string = i.replace(\"'\", \"\\\"\")\n",
    "    d = json.loads(json_acceptable_string)\n",
    "    gps_coord.append(d['coordinates']) #no value\n",
    "    \n",
    "df_repeated['gps_coord'] = gps_coord"
   ]
  },
  {
   "cell_type": "code",
   "execution_count": 10,
   "metadata": {},
   "outputs": [
    {
     "name": "stderr",
     "output_type": "stream",
     "text": [
      "/anaconda3/lib/python3.6/site-packages/ipykernel_launcher.py:3: SettingWithCopyWarning: \n",
      "A value is trying to be set on a copy of a slice from a DataFrame.\n",
      "Try using .loc[row_indexer,col_indexer] = value instead\n",
      "\n",
      "See the caveats in the documentation: http://pandas.pydata.org/pandas-docs/stable/indexing.html#indexing-view-versus-copy\n",
      "  This is separate from the ipykernel package so we can avoid doing imports until\n"
     ]
    }
   ],
   "source": [
    "#df_repeated.columns\n",
    "data = df_repeated[['vin','lastTimestamp', 'speed','gps_coord', 'odometer']]\n",
    "data['lastTimestamp'] = data['lastTimestamp'].apply(lambda x: parse_time(x))"
   ]
  },
  {
   "cell_type": "code",
   "execution_count": 11,
   "metadata": {},
   "outputs": [],
   "source": [
    "#speed threshold\n",
    "#gps_coord - geofencing, match with phone\n",
    "#odo - distance traveled"
   ]
  },
  {
   "cell_type": "code",
   "execution_count": 12,
   "metadata": {},
   "outputs": [],
   "source": [
    "##1) Detect when vehicle is being used  \n",
    "#When Speed > 0 mph\n",
    "\n",
    "#Tag Driver -- Assign Driver_ID\n",
    "#Tag Trips -- identify time gaps of > 10 mins , Assign Trip_ID\n",
    "#Tag Phone -- identify Phone_ID, match gps_coord with phone gps_coord. "
   ]
  },
  {
   "cell_type": "code",
   "execution_count": 13,
   "metadata": {},
   "outputs": [
    {
     "data": {
      "text/html": [
       "<div>\n",
       "<style scoped>\n",
       "    .dataframe tbody tr th:only-of-type {\n",
       "        vertical-align: middle;\n",
       "    }\n",
       "\n",
       "    .dataframe tbody tr th {\n",
       "        vertical-align: top;\n",
       "    }\n",
       "\n",
       "    .dataframe thead th {\n",
       "        text-align: right;\n",
       "    }\n",
       "</style>\n",
       "<table border=\"1\" class=\"dataframe\">\n",
       "  <thead>\n",
       "    <tr style=\"text-align: right;\">\n",
       "      <th></th>\n",
       "      <th>vin</th>\n",
       "      <th>lastTimestamp</th>\n",
       "      <th>speed</th>\n",
       "      <th>gps_coord</th>\n",
       "      <th>odometer</th>\n",
       "    </tr>\n",
       "  </thead>\n",
       "  <tbody>\n",
       "    <tr>\n",
       "      <th>0</th>\n",
       "      <td>VINVINVINVINVIN01</td>\n",
       "      <td>2018-06-02 22:04:18+00:00</td>\n",
       "      <td>0</td>\n",
       "      <td>[-88.3185833333333, 42.228175]</td>\n",
       "      <td>5176</td>\n",
       "    </tr>\n",
       "    <tr>\n",
       "      <th>1</th>\n",
       "      <td>VINVINVINVINVIN01</td>\n",
       "      <td>2018-06-02 22:04:18+00:00</td>\n",
       "      <td>0</td>\n",
       "      <td>[-88.3185833333333, 42.228175]</td>\n",
       "      <td>5176</td>\n",
       "    </tr>\n",
       "    <tr>\n",
       "      <th>2</th>\n",
       "      <td>VINVINVINVINVIN01</td>\n",
       "      <td>2018-06-02 22:04:18+00:00</td>\n",
       "      <td>0</td>\n",
       "      <td>[-88.3185833333333, 42.228175]</td>\n",
       "      <td>5176</td>\n",
       "    </tr>\n",
       "  </tbody>\n",
       "</table>\n",
       "</div>"
      ],
      "text/plain": [
       "                 vin             lastTimestamp  speed  \\\n",
       "0  VINVINVINVINVIN01 2018-06-02 22:04:18+00:00      0   \n",
       "1  VINVINVINVINVIN01 2018-06-02 22:04:18+00:00      0   \n",
       "2  VINVINVINVINVIN01 2018-06-02 22:04:18+00:00      0   \n",
       "\n",
       "                        gps_coord  odometer  \n",
       "0  [-88.3185833333333, 42.228175]      5176  \n",
       "1  [-88.3185833333333, 42.228175]      5176  \n",
       "2  [-88.3185833333333, 42.228175]      5176  "
      ]
     },
     "execution_count": 13,
     "metadata": {},
     "output_type": "execute_result"
    }
   ],
   "source": [
    "data"
   ]
  },
  {
   "cell_type": "code",
   "execution_count": 14,
   "metadata": {},
   "outputs": [],
   "source": [
    "#Distracted Driving\n",
    "#When Speed > 30 mph\n",
    "#Geofencing logic\n",
    "#Locked Miles "
   ]
  },
  {
   "cell_type": "code",
   "execution_count": null,
   "metadata": {},
   "outputs": [],
   "source": []
  },
  {
   "cell_type": "code",
   "execution_count": 15,
   "metadata": {},
   "outputs": [],
   "source": [
    "#2) Match driver's phone and vehicle"
   ]
  },
  {
   "cell_type": "code",
   "execution_count": 16,
   "metadata": {},
   "outputs": [],
   "source": [
    "#3) Track driving behavior"
   ]
  },
  {
   "cell_type": "code",
   "execution_count": 17,
   "metadata": {},
   "outputs": [],
   "source": [
    "#4) Track if texting is enabled"
   ]
  },
  {
   "cell_type": "code",
   "execution_count": 18,
   "metadata": {},
   "outputs": [],
   "source": [
    "#5) Run scoring model, on risky and distracted events"
   ]
  }
 ],
 "metadata": {
  "kernelspec": {
   "display_name": "Python 3",
   "language": "python",
   "name": "python3"
  },
  "language_info": {
   "codemirror_mode": {
    "name": "ipython",
    "version": 3
   },
   "file_extension": ".py",
   "mimetype": "text/x-python",
   "name": "python",
   "nbconvert_exporter": "python",
   "pygments_lexer": "ipython3",
   "version": "3.6.5"
  }
 },
 "nbformat": 4,
 "nbformat_minor": 2
}
