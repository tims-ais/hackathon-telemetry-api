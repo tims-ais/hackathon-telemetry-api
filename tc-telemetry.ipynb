{
 "cells": [
  {
   "cell_type": "code",
   "execution_count": null,
   "metadata": {},
   "outputs": [],
   "source": [
    "#1) Detect when vehicle is being used  \n",
    "#2) Match driver's phone and vehicle\n",
    "#3) Track driving behavior\n",
    "#4) Track if texting is enabled\n",
    "#5) Run scoring model, on risky and distracted events\n",
    "#6) Make data available for Scoring API"
   ]
  },
  {
   "cell_type": "code",
   "execution_count": 30,
   "metadata": {},
   "outputs": [
    {
     "name": "stdout",
     "output_type": "stream",
     "text": [
      "2018-06-02 22:04:18+00:00\n"
     ]
    }
   ],
   "source": [
    "import json\n",
    "import pandas as pd\n",
    "from dateutil.parser import parse\n",
    "from datetime import datetime\n",
    "\n",
    "#Helper Functions\n",
    "def parse_time(s):\n",
    "    try:\n",
    "        ret = parse(s)\n",
    "    except ValueError:\n",
    "        ret = datetime.utcfromtimestamp(s)\n",
    "    return ret\n",
    "\n",
    "#print(parse_time(data['lastTimestamp'][0]))"
   ]
  },
  {
   "cell_type": "code",
   "execution_count": 1,
   "metadata": {},
   "outputs": [
    {
     "data": {
      "text/plain": [
       "{'vin': 'VINVINVINVINVIN01',\n",
       " 'correlationId': 'correlation-id',\n",
       " 'lastTimestamp': '2018-06-02T22:04:18Z',\n",
       " 'location': {'type': 'Point', 'coordinates': [-88.3185833333333, 42.228175]},\n",
       " 'vehicleName': 'CAMRY',\n",
       " 'telemetry': {'fuelLevel': {'value': 26.46},\n",
       "  'odometer': {'value': 5176, 'unit': 'mi'},\n",
       "  'sunRoof': {'value': 2},\n",
       "  'spareTirePressure': {'value': 127, 'unit': 'psi'},\n",
       "  'flTirePressure': {'value': 36, 'unit': 'psi'},\n",
       "  'driverWindow': {'value': 2},\n",
       "  'rrWindow': {'value': 2},\n",
       "  'speed': {'value': 0, 'unit': 'km/h'},\n",
       "  'frTirePressure': {'value': 37, 'unit': 'psi'},\n",
       "  'rlTirePressure': {'value': 37, 'unit': 'psi'},\n",
       "  'passengerWindow': {'value': 2},\n",
       "  'rrTirePressure': {'value': 37, 'unit': 'psi'},\n",
       "  'rlWindow': {'value': 2}}}"
      ]
     },
     "execution_count": 1,
     "metadata": {},
     "output_type": "execute_result"
    }
   ],
   "source": [
    "\n",
    "#TelemetryByVinController #Header Parameters #x-id-token\n",
    "\n",
    "#Grab vin, lastTimestamp, location-coordinates, telemetry-speed-value\n",
    "with open('telemetry_api_response.txt') as f: \n",
    "    json_data = json.load(f)\n",
    "json_data"
   ]
  },
  {
   "cell_type": "code",
   "execution_count": 2,
   "metadata": {},
   "outputs": [],
   "source": [
    "d = json_data\n",
    "df = pd.DataFrame.from_dict(d, orient='index').astype(str).sort_index()\n",
    "\n",
    "df.T #columnn for each timestamp?\n",
    "data = df.T"
   ]
  },
  {
   "cell_type": "code",
   "execution_count": 3,
   "metadata": {},
   "outputs": [
    {
     "data": {
      "text/html": [
       "<div>\n",
       "<style scoped>\n",
       "    .dataframe tbody tr th:only-of-type {\n",
       "        vertical-align: middle;\n",
       "    }\n",
       "\n",
       "    .dataframe tbody tr th {\n",
       "        vertical-align: top;\n",
       "    }\n",
       "\n",
       "    .dataframe thead th {\n",
       "        text-align: right;\n",
       "    }\n",
       "</style>\n",
       "<table border=\"1\" class=\"dataframe\">\n",
       "  <thead>\n",
       "    <tr style=\"text-align: right;\">\n",
       "      <th></th>\n",
       "      <th>correlationId</th>\n",
       "      <th>lastTimestamp</th>\n",
       "      <th>location</th>\n",
       "      <th>telemetry</th>\n",
       "      <th>vehicleName</th>\n",
       "      <th>vin</th>\n",
       "    </tr>\n",
       "  </thead>\n",
       "  <tbody>\n",
       "    <tr>\n",
       "      <th>0</th>\n",
       "      <td>correlation-id</td>\n",
       "      <td>2018-06-02T22:04:18Z</td>\n",
       "      <td>{'type': 'Point', 'coordinates': [-88.31858333...</td>\n",
       "      <td>{'fuelLevel': {'value': 26.46}, 'odometer': {'...</td>\n",
       "      <td>CAMRY</td>\n",
       "      <td>VINVINVINVINVIN01</td>\n",
       "    </tr>\n",
       "    <tr>\n",
       "      <th>1</th>\n",
       "      <td>correlation-id</td>\n",
       "      <td>2018-06-02T22:04:18Z</td>\n",
       "      <td>{'type': 'Point', 'coordinates': [-88.31858333...</td>\n",
       "      <td>{'fuelLevel': {'value': 26.46}, 'odometer': {'...</td>\n",
       "      <td>CAMRY</td>\n",
       "      <td>VINVINVINVINVIN01</td>\n",
       "    </tr>\n",
       "    <tr>\n",
       "      <th>2</th>\n",
       "      <td>correlation-id</td>\n",
       "      <td>2018-06-02T22:04:18Z</td>\n",
       "      <td>{'type': 'Point', 'coordinates': [-88.31858333...</td>\n",
       "      <td>{'fuelLevel': {'value': 26.46}, 'odometer': {'...</td>\n",
       "      <td>CAMRY</td>\n",
       "      <td>VINVINVINVINVIN01</td>\n",
       "    </tr>\n",
       "  </tbody>\n",
       "</table>\n",
       "</div>"
      ],
      "text/plain": [
       "    correlationId         lastTimestamp  \\\n",
       "0  correlation-id  2018-06-02T22:04:18Z   \n",
       "1  correlation-id  2018-06-02T22:04:18Z   \n",
       "2  correlation-id  2018-06-02T22:04:18Z   \n",
       "\n",
       "                                            location  \\\n",
       "0  {'type': 'Point', 'coordinates': [-88.31858333...   \n",
       "1  {'type': 'Point', 'coordinates': [-88.31858333...   \n",
       "2  {'type': 'Point', 'coordinates': [-88.31858333...   \n",
       "\n",
       "                                           telemetry vehicleName  \\\n",
       "0  {'fuelLevel': {'value': 26.46}, 'odometer': {'...       CAMRY   \n",
       "1  {'fuelLevel': {'value': 26.46}, 'odometer': {'...       CAMRY   \n",
       "2  {'fuelLevel': {'value': 26.46}, 'odometer': {'...       CAMRY   \n",
       "\n",
       "                 vin  \n",
       "0  VINVINVINVINVIN01  \n",
       "1  VINVINVINVINVIN01  \n",
       "2  VINVINVINVINVIN01  "
      ]
     },
     "execution_count": 3,
     "metadata": {},
     "output_type": "execute_result"
    }
   ],
   "source": [
    "df_repeated = pd.concat([data]*3, ignore_index=True)\n",
    "df_repeated"
   ]
  },
  {
   "cell_type": "code",
   "execution_count": 4,
   "metadata": {},
   "outputs": [],
   "source": [
    "#len(df_repeated.telemetry.values) #convert to array, #length is number of rows. "
   ]
  },
  {
   "cell_type": "code",
   "execution_count": 5,
   "metadata": {},
   "outputs": [],
   "source": [
    "odo = []\n",
    "\n",
    "for i in df_repeated.telemetry.values:\n",
    "    s = i\n",
    "    json_acceptable_string = s.replace(\"'\", \"\\\"\")\n",
    "    d = json.loads(json_acceptable_string)\n",
    "    odo.append(d['odometer'].get(\"value\"))\n",
    "    \n",
    "df_repeated['odometer'] = odo\n",
    "#df_repeated"
   ]
  },
  {
   "cell_type": "code",
   "execution_count": 6,
   "metadata": {},
   "outputs": [],
   "source": [
    "sp = []\n",
    "for i in df_repeated.telemetry.values:\n",
    "    s = i\n",
    "    json_acceptable_string = s.replace(\"'\", \"\\\"\")\n",
    "    d = json.loads(json_acceptable_string)\n",
    "    sp.append(d['speed'].get(\"value\"))\n",
    "    \n",
    "df_repeated['speed'] = sp\n",
    "#df_repeated"
   ]
  },
  {
   "cell_type": "code",
   "execution_count": 7,
   "metadata": {},
   "outputs": [],
   "source": [
    "gps_coord = []\n",
    "\n",
    "for i in df_repeated.location.values:\n",
    "    s = i\n",
    "    json_acceptable_string = s.replace(\"'\", \"\\\"\")\n",
    "    d = json.loads(json_acceptable_string)\n",
    "    gps_coord.append(d['coordinates'])"
   ]
  },
  {
   "cell_type": "code",
   "execution_count": 8,
   "metadata": {},
   "outputs": [],
   "source": [
    "df_repeated['gps_coord'] = gps_coord\n",
    "#df_repeated"
   ]
  },
  {
   "cell_type": "code",
   "execution_count": 9,
   "metadata": {},
   "outputs": [
    {
     "data": {
      "text/html": [
       "<div>\n",
       "<style scoped>\n",
       "    .dataframe tbody tr th:only-of-type {\n",
       "        vertical-align: middle;\n",
       "    }\n",
       "\n",
       "    .dataframe tbody tr th {\n",
       "        vertical-align: top;\n",
       "    }\n",
       "\n",
       "    .dataframe thead th {\n",
       "        text-align: right;\n",
       "    }\n",
       "</style>\n",
       "<table border=\"1\" class=\"dataframe\">\n",
       "  <thead>\n",
       "    <tr style=\"text-align: right;\">\n",
       "      <th></th>\n",
       "      <th>vin</th>\n",
       "      <th>lastTimestamp</th>\n",
       "      <th>speed</th>\n",
       "      <th>gps_coord</th>\n",
       "      <th>odometer</th>\n",
       "    </tr>\n",
       "  </thead>\n",
       "  <tbody>\n",
       "    <tr>\n",
       "      <th>0</th>\n",
       "      <td>VINVINVINVINVIN01</td>\n",
       "      <td>2018-06-02T22:04:18Z</td>\n",
       "      <td>0</td>\n",
       "      <td>[-88.3185833333333, 42.228175]</td>\n",
       "      <td>5176</td>\n",
       "    </tr>\n",
       "    <tr>\n",
       "      <th>1</th>\n",
       "      <td>VINVINVINVINVIN01</td>\n",
       "      <td>2018-06-02T22:04:18Z</td>\n",
       "      <td>0</td>\n",
       "      <td>[-88.3185833333333, 42.228175]</td>\n",
       "      <td>5176</td>\n",
       "    </tr>\n",
       "    <tr>\n",
       "      <th>2</th>\n",
       "      <td>VINVINVINVINVIN01</td>\n",
       "      <td>2018-06-02T22:04:18Z</td>\n",
       "      <td>0</td>\n",
       "      <td>[-88.3185833333333, 42.228175]</td>\n",
       "      <td>5176</td>\n",
       "    </tr>\n",
       "  </tbody>\n",
       "</table>\n",
       "</div>"
      ],
      "text/plain": [
       "                 vin         lastTimestamp  speed  \\\n",
       "0  VINVINVINVINVIN01  2018-06-02T22:04:18Z      0   \n",
       "1  VINVINVINVINVIN01  2018-06-02T22:04:18Z      0   \n",
       "2  VINVINVINVINVIN01  2018-06-02T22:04:18Z      0   \n",
       "\n",
       "                        gps_coord  odometer  \n",
       "0  [-88.3185833333333, 42.228175]      5176  \n",
       "1  [-88.3185833333333, 42.228175]      5176  \n",
       "2  [-88.3185833333333, 42.228175]      5176  "
      ]
     },
     "execution_count": 9,
     "metadata": {},
     "output_type": "execute_result"
    }
   ],
   "source": [
    "#df_repeated.columns\n",
    "data = df_repeated[['vin','lastTimestamp', 'speed','gps_coord', 'odometer']]\n",
    "data"
   ]
  },
  {
   "cell_type": "code",
   "execution_count": 17,
   "metadata": {},
   "outputs": [],
   "source": [
    "#speed threshold\n",
    "#gps_coord - geofencing, match with phone\n",
    "#odo - distance traveled"
   ]
  },
  {
   "cell_type": "code",
   "execution_count": 32,
   "metadata": {},
   "outputs": [
    {
     "name": "stderr",
     "output_type": "stream",
     "text": [
      "/anaconda3/lib/python3.6/site-packages/ipykernel_launcher.py:1: SettingWithCopyWarning: \n",
      "A value is trying to be set on a copy of a slice from a DataFrame.\n",
      "Try using .loc[row_indexer,col_indexer] = value instead\n",
      "\n",
      "See the caveats in the documentation: http://pandas.pydata.org/pandas-docs/stable/indexing.html#indexing-view-versus-copy\n",
      "  \"\"\"Entry point for launching an IPython kernel.\n"
     ]
    }
   ],
   "source": [
    "data['lastTimestamp'] = data['lastTimestamp'].apply(lambda x: parse_time(x))"
   ]
  },
  {
   "cell_type": "code",
   "execution_count": 33,
   "metadata": {},
   "outputs": [
    {
     "data": {
      "text/html": [
       "<div>\n",
       "<style scoped>\n",
       "    .dataframe tbody tr th:only-of-type {\n",
       "        vertical-align: middle;\n",
       "    }\n",
       "\n",
       "    .dataframe tbody tr th {\n",
       "        vertical-align: top;\n",
       "    }\n",
       "\n",
       "    .dataframe thead th {\n",
       "        text-align: right;\n",
       "    }\n",
       "</style>\n",
       "<table border=\"1\" class=\"dataframe\">\n",
       "  <thead>\n",
       "    <tr style=\"text-align: right;\">\n",
       "      <th></th>\n",
       "      <th>vin</th>\n",
       "      <th>lastTimestamp</th>\n",
       "      <th>speed</th>\n",
       "      <th>gps_coord</th>\n",
       "      <th>odometer</th>\n",
       "    </tr>\n",
       "  </thead>\n",
       "  <tbody>\n",
       "    <tr>\n",
       "      <th>0</th>\n",
       "      <td>VINVINVINVINVIN01</td>\n",
       "      <td>2018-06-02 22:04:18+00:00</td>\n",
       "      <td>0</td>\n",
       "      <td>[-88.3185833333333, 42.228175]</td>\n",
       "      <td>5176</td>\n",
       "    </tr>\n",
       "    <tr>\n",
       "      <th>1</th>\n",
       "      <td>VINVINVINVINVIN01</td>\n",
       "      <td>2018-06-02 22:04:18+00:00</td>\n",
       "      <td>0</td>\n",
       "      <td>[-88.3185833333333, 42.228175]</td>\n",
       "      <td>5176</td>\n",
       "    </tr>\n",
       "    <tr>\n",
       "      <th>2</th>\n",
       "      <td>VINVINVINVINVIN01</td>\n",
       "      <td>2018-06-02 22:04:18+00:00</td>\n",
       "      <td>0</td>\n",
       "      <td>[-88.3185833333333, 42.228175]</td>\n",
       "      <td>5176</td>\n",
       "    </tr>\n",
       "  </tbody>\n",
       "</table>\n",
       "</div>"
      ],
      "text/plain": [
       "                 vin             lastTimestamp  speed  \\\n",
       "0  VINVINVINVINVIN01 2018-06-02 22:04:18+00:00      0   \n",
       "1  VINVINVINVINVIN01 2018-06-02 22:04:18+00:00      0   \n",
       "2  VINVINVINVINVIN01 2018-06-02 22:04:18+00:00      0   \n",
       "\n",
       "                        gps_coord  odometer  \n",
       "0  [-88.3185833333333, 42.228175]      5176  \n",
       "1  [-88.3185833333333, 42.228175]      5176  \n",
       "2  [-88.3185833333333, 42.228175]      5176  "
      ]
     },
     "execution_count": 33,
     "metadata": {},
     "output_type": "execute_result"
    }
   ],
   "source": [
    "data"
   ]
  }
 ],
 "metadata": {
  "kernelspec": {
   "display_name": "Python 3",
   "language": "python",
   "name": "python3"
  },
  "language_info": {
   "codemirror_mode": {
    "name": "ipython",
    "version": 3
   },
   "file_extension": ".py",
   "mimetype": "text/x-python",
   "name": "python",
   "nbconvert_exporter": "python",
   "pygments_lexer": "ipython3",
   "version": "3.6.5"
  }
 },
 "nbformat": 4,
 "nbformat_minor": 2
}
